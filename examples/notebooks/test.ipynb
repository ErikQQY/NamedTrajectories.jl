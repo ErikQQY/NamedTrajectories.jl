{
 "cells": [
  {
   "cell_type": "code",
   "execution_count": 1,
   "metadata": {},
   "outputs": [],
   "source": [
    "using Revise\n",
    "using NamedTrajectories"
   ]
  },
  {
   "cell_type": "code",
   "execution_count": 2,
   "metadata": {},
   "outputs": [
    {
     "data": {
      "text/plain": [
       "(x = [0.2558521006161333 0.3643229557301567 … 0.028421990683857645 0.674449213638827; 0.6775126057311323 0.8693932559506807 … 0.6346904291240297 0.3467504362453314; 0.036821340524149204 0.8860756494349437 … 0.6816687908075938 0.6110015729545025], u = [0.7659639533403911 0.4632868932905665 … 0.9939025648817892 0.2105062998955718; 0.9782389824455723 0.6114492277497968 … 0.9632269069591805 0.09168624247176993], Δt = [0.1, 0.1, 0.1, 0.1, 0.1])"
      ]
     },
     "metadata": {},
     "output_type": "display_data"
    }
   ],
   "source": [
    "data = (\n",
    "    x = rand(3, 5),\n",
    "    u = rand(2, 5),\n",
    "    Δt = fill(0.1, 5)\n",
    ")"
   ]
  },
  {
   "cell_type": "code",
   "execution_count": 3,
   "metadata": {},
   "outputs": [
    {
     "data": {
      "text/plain": [
       "NamedTrajectory{Float64}([0.2558521006161333 0.3643229557301567 … 0.028421990683857645 0.674449213638827; 0.6775126057311323 0.8693932559506807 … 0.6346904291240297 0.3467504362453314; … ; 0.9782389824455723 0.6114492277497968 … 0.9632269069591805 0.09168624247176993; 0.1 0.1 … 0.1 0.1], [0.2558521006161333, 0.6775126057311323, 0.036821340524149204, 0.7659639533403911, 0.9782389824455723, 0.1, 0.3643229557301567, 0.8693932559506807, 0.8860756494349437, 0.4632868932905665  …  0.6816687908075938, 0.9939025648817892, 0.9632269069591805, 0.1, 0.674449213638827, 0.3467504362453314, 0.6110015729545025, 0.2105062998955718, 0.09168624247176993, 0.1], 5, :Δt, 6, (x = 3, u = 2, Δt = 1, states = 3, controls = 3), NamedTuple(), NamedTuple(), NamedTuple(), NamedTuple(), (x = 1:3, u = 4:5, Δt = 6:6, states = [1, 2, 3], controls = [4, 5, 6]), (:x, :u, :Δt), (:x,), (:u, :Δt))"
      ]
     },
     "metadata": {},
     "output_type": "display_data"
    }
   ],
   "source": [
    "traj = NamedTrajectory(data; timestep=:Δt, controls=(:u, :Δt))\n",
    "traj2 = NamedTrajectory(data; timestep=:Δt, controls=(:u, :Δt))"
   ]
  },
  {
   "cell_type": "code",
   "execution_count": 4,
   "metadata": {},
   "outputs": [
    {
     "data": {
      "text/plain": [
       "true"
      ]
     },
     "metadata": {},
     "output_type": "display_data"
    }
   ],
   "source": [
    "traj.components == traj2.components"
   ]
  },
  {
   "cell_type": "code",
   "execution_count": 5,
   "metadata": {},
   "outputs": [
    {
     "data": {
      "text/plain": [
       "true"
      ]
     },
     "metadata": {},
     "output_type": "display_data"
    }
   ],
   "source": [
    "components(traj) == components(traj2)"
   ]
  },
  {
   "cell_type": "code",
   "execution_count": 10,
   "metadata": {},
   "outputs": [
    {
     "data": {
      "text/plain": [
       "true"
      ]
     },
     "metadata": {},
     "output_type": "display_data"
    }
   ],
   "source": [
    "isequal(traj, traj2)"
   ]
  },
  {
   "cell_type": "code",
   "execution_count": 19,
   "metadata": {},
   "outputs": [
    {
     "data": {
      "text/plain": [
       "(:x,)"
      ]
     },
     "metadata": {},
     "output_type": "display_data"
    }
   ],
   "source": [
    "traj.state_names"
   ]
  },
  {
   "cell_type": "code",
   "execution_count": 20,
   "metadata": {},
   "outputs": [
    {
     "data": {
      "text/plain": [
       "NamedTrajectory{Float64}([0.10517739518582858 0.0008150220322180601 … 0.5273735927531705 0.07126054990030373; 0.052219295905581053 0.931438364786742 … 0.8222873739493923 0.9253078132439364; … ; 0.07583242776728982 0.1140781826705739 … 0.47187924111186097 0.6745015409263184; 0.1 0.1 … 0.1 0.1], [0.10517739518582858, 0.052219295905581053, 0.4629297396948143, 0.602052707239228, 0.07583242776728982, 0.1, 0.0008150220322180601, 0.931438364786742, 0.20948878793125525, 0.34546198236528647  …  0.8367208775005955, 0.4449446115786482, 0.47187924111186097, 0.1, 0.07126054990030373, 0.9253078132439364, 0.7826056460902651, 0.35247843104368903, 0.6745015409263184, 0.1], 5, :Δt, 6, (x = 3, u = 2, Δt = 1, states = 3, controls = 3), NamedTuple(), NamedTuple(), NamedTuple(), NamedTuple(), (x = 1:3, u = 4:5, Δt = 6:6, states = [1, 2, 3], controls = [4, 5, 6]), (:x, :u, :Δt), (:x,), (:u, :Δt))"
      ]
     },
     "metadata": {},
     "output_type": "display_data"
    }
   ],
   "source": [
    "traj_copy = copy(traj)"
   ]
  },
  {
   "cell_type": "code",
   "execution_count": 21,
   "metadata": {},
   "outputs": [
    {
     "data": {
      "text/plain": [
       "(:x, :u, :Δt)"
      ]
     },
     "metadata": {},
     "output_type": "display_data"
    }
   ],
   "source": [
    "traj_copy.names"
   ]
  },
  {
   "cell_type": "code",
   "execution_count": 22,
   "metadata": {},
   "outputs": [],
   "source": [
    "add_component!(traj_copy, :z, rand(2, 5); type=:state)"
   ]
  },
  {
   "cell_type": "code",
   "execution_count": 23,
   "metadata": {},
   "outputs": [
    {
     "data": {
      "text/plain": [
       "(:x, :u, :Δt, :z)"
      ]
     },
     "metadata": {},
     "output_type": "display_data"
    }
   ],
   "source": [
    "traj_copy.names"
   ]
  },
  {
   "cell_type": "code",
   "execution_count": 24,
   "metadata": {},
   "outputs": [
    {
     "data": {
      "text/plain": [
       "(:x, :u, :Δt)"
      ]
     },
     "metadata": {},
     "output_type": "display_data"
    }
   ],
   "source": [
    "traj.names"
   ]
  },
  {
   "cell_type": "code",
   "execution_count": 25,
   "metadata": {},
   "outputs": [
    {
     "data": {
      "text/plain": [
       "(dim = 6, T = 5)"
      ]
     },
     "metadata": {},
     "output_type": "display_data"
    }
   ],
   "source": [
    "size(traj)"
   ]
  },
  {
   "cell_type": "code",
   "execution_count": 26,
   "metadata": {},
   "outputs": [
    {
     "data": {
      "text/plain": [
       "3×5 Matrix{Float64}:\n",
       " 0.602053   0.345462  0.363346  0.444945  0.352478\n",
       " 0.0758324  0.114078  0.361535  0.471879  0.674502\n",
       " 0.1        0.1       0.1       0.1       0.1"
      ]
     },
     "metadata": {},
     "output_type": "display_data"
    }
   ],
   "source": [
    "traj.controls"
   ]
  },
  {
   "cell_type": "code",
   "execution_count": 27,
   "metadata": {},
   "outputs": [
    {
     "data": {
      "text/plain": [
       "NamedTrajectory{Float64}([0.10517739518582858 0.0008150220322180601 … 0.5273735927531705 0.07126054990030373; 0.052219295905581053 0.931438364786742 … 0.8222873739493923 0.9253078132439364; … ; 0.07583242776728982 0.1140781826705739 … 0.47187924111186097 0.6745015409263184; 0.1 0.1 … 0.1 0.1], [0.10517739518582858, 0.052219295905581053, 0.4629297396948143, 0.602052707239228, 0.07583242776728982, 0.1, 0.0008150220322180601, 0.931438364786742, 0.20948878793125525, 0.34546198236528647  …  0.8367208775005955, 0.4449446115786482, 0.47187924111186097, 0.1, 0.07126054990030373, 0.9253078132439364, 0.7826056460902651, 0.35247843104368903, 0.6745015409263184, 0.1], 5, :Δt, 6, (x = 3, u = 2, Δt = 1, states = 3, controls = 3), NamedTuple(), NamedTuple(), NamedTuple(), NamedTuple(), (x = 1:3, u = 4:5, Δt = 6:6, states = [1, 2, 3], controls = [4, 5, 6]), (:x, :u, :Δt), (:x,), (:u, :Δt))"
      ]
     },
     "metadata": {},
     "output_type": "display_data"
    }
   ],
   "source": [
    "original_traj = remove_component(traj_copy, :z)"
   ]
  },
  {
   "cell_type": "code",
   "execution_count": 28,
   "metadata": {},
   "outputs": [
    {
     "data": {
      "text/plain": [
       "(:x, :u, :Δt)"
      ]
     },
     "metadata": {},
     "output_type": "display_data"
    }
   ],
   "source": [
    "original_traj.names"
   ]
  },
  {
   "cell_type": "code",
   "execution_count": 29,
   "metadata": {},
   "outputs": [
    {
     "data": {
      "text/plain": [
       "3×5 Matrix{Float64}:\n",
       " 0.105177   0.000815022  0.561242  0.527374  0.0712605\n",
       " 0.0522193  0.931438     0.790702  0.822287  0.925308\n",
       " 0.46293    0.209489     0.655106  0.836721  0.782606"
      ]
     },
     "metadata": {},
     "output_type": "display_data"
    }
   ],
   "source": [
    "original_traj.x"
   ]
  },
  {
   "cell_type": "code",
   "execution_count": 30,
   "metadata": {},
   "outputs": [
    {
     "data": {
      "text/plain": [
       "3×5 Matrix{Float64}:\n",
       " 0.105177   0.000815022  0.561242  0.527374  0.0712605\n",
       " 0.0522193  0.931438     0.790702  0.822287  0.925308\n",
       " 0.46293    0.209489     0.655106  0.836721  0.782606"
      ]
     },
     "metadata": {},
     "output_type": "display_data"
    }
   ],
   "source": [
    "traj.x"
   ]
  },
  {
   "cell_type": "code",
   "execution_count": 31,
   "metadata": {},
   "outputs": [
    {
     "data": {
      "text/plain": [
       "(x = [0.10517739518582858 0.0008150220322180601 … 0.5273735927531705 0.07126054990030373; 0.052219295905581053 0.931438364786742 … 0.8222873739493923 0.9253078132439364; 0.4629297396948143 0.20948878793125525 … 0.8367208775005955 0.7826056460902651], u = [0.602052707239228 0.34546198236528647 … 0.4449446115786482 0.35247843104368903; 0.07583242776728982 0.1140781826705739 … 0.47187924111186097 0.6745015409263184], Δt = [0.1 0.1 … 0.1 0.1])"
      ]
     },
     "metadata": {},
     "output_type": "display_data"
    }
   ],
   "source": [
    "components(traj)"
   ]
  },
  {
   "cell_type": "code",
   "execution_count": null,
   "metadata": {},
   "outputs": [],
   "source": []
  }
 ],
 "metadata": {
  "kernelspec": {
   "display_name": "Julia 1.8.5",
   "language": "julia",
   "name": "julia-1.8"
  },
  "language_info": {
   "file_extension": ".jl",
   "mimetype": "application/julia",
   "name": "julia",
   "version": "1.8.5"
  },
  "orig_nbformat": 4
 },
 "nbformat": 4,
 "nbformat_minor": 2
}
