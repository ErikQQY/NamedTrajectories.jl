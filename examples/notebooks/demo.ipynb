{
 "cells": [
  {
   "cell_type": "code",
   "execution_count": 1,
   "metadata": {},
   "outputs": [],
   "source": [
    "using Revise\n",
    "using NamedTrajectories"
   ]
  },
  {
   "cell_type": "code",
   "execution_count": 2,
   "metadata": {},
   "outputs": [
    {
     "data": {
      "text/plain": [
       "0.1"
      ]
     },
     "metadata": {},
     "output_type": "display_data"
    }
   ],
   "source": [
    "# define number of timesteps and timestep\n",
    "T = 10\n",
    "dt = 0.1"
   ]
  },
  {
   "cell_type": "code",
   "execution_count": 3,
   "metadata": {},
   "outputs": [
    {
     "data": {
      "text/plain": [
       "(x = [0.4496800725856104 0.9444202418694286 … 0.8139795203906602 0.1952200344910019; 0.018389518741425803 0.8135630875886481 … 0.6900016542854644 0.5184685937664664; 0.3539498249704417 0.7913480250913939 … 0.7890191394358691 0.9099803925707678], u = [0.9891271992223536 0.6677769590374695 … 0.9824149705727606 0.9097830247604325; 0.9625668031577324 0.70471090680827 … 0.3375655007534575 0.005051745539493835], Δt = [0.1 0.1 … 0.1 0.1])"
      ]
     },
     "metadata": {},
     "output_type": "display_data"
    }
   ],
   "source": [
    "# build named tuple of components and data matrices\n",
    "components = (\n",
    "    x = rand(3, T),\n",
    "    u = rand(2, T),\n",
    "    Δt = fill(dt, 1, T),\n",
    ")"
   ]
  },
  {
   "cell_type": "code",
   "execution_count": 4,
   "metadata": {},
   "outputs": [
    {
     "data": {
      "text/plain": [
       "NamedTrajectory([0.4496800725856104 0.9444202418694286 … 0.8139795203906602 0.1952200344910019; 0.018389518741425803 0.8135630875886481 … 0.6900016542854644 0.5184685937664664; … ; 0.9625668031577324 0.70471090680827 … 0.3375655007534575 0.005051745539493835; 0.1 0.1 … 0.1 0.1], [0.4496800725856104, 0.018389518741425803, 0.3539498249704417, 0.9891271992223536, 0.9625668031577324, 0.1, 0.9444202418694286, 0.8135630875886481, 0.7913480250913939, 0.6677769590374695  …  0.7890191394358691, 0.9824149705727606, 0.3375655007534575, 0.1, 0.1952200344910019, 0.5184685937664664, 0.9099803925707678, 0.9097830247604325, 0.005051745539493835, 0.1], 10, :Δt, 6, (x = 3, u = 2, Δt = 1, states = 4, controls = 2), NamedTuple(), NamedTuple(), NamedTuple(), NamedTuple(), (x = 1:3, u = 4:5, Δt = 6:6, states = [1, 2, 3, 6], controls = [4, 5]), (:x, :u, :Δt), (:u,))"
      ]
     },
     "metadata": {},
     "output_type": "display_data"
    }
   ],
   "source": [
    "# build trajectory\n",
    "traj = NamedTrajectory(components; timestep=:Δt, controls=:u)"
   ]
  },
  {
   "cell_type": "code",
   "execution_count": 5,
   "metadata": {},
   "outputs": [
    {
     "data": {
      "text/plain": [
       "3×10 Matrix{Float64}:\n",
       " 0.44968    0.94442   0.561824  0.43765    …  0.307236   0.81398   0.19522\n",
       " 0.0183895  0.813563  0.157581  0.0103097     0.386559   0.690002  0.518469\n",
       " 0.35395    0.791348  0.324936  0.401266      0.0356899  0.789019  0.90998"
      ]
     },
     "metadata": {},
     "output_type": "display_data"
    }
   ],
   "source": [
    "# access data by name\n",
    "traj.x # returns 3x10 matrix of x data"
   ]
  },
  {
   "cell_type": "code",
   "execution_count": 6,
   "metadata": {},
   "outputs": [
    {
     "data": {
      "text/plain": [
       "2×10 Matrix{Float64}:\n",
       " 0.989127  0.667777  0.656754  0.121273  …  0.779423  0.982415  0.909783\n",
       " 0.962567  0.704711  0.904798  0.205482     0.557831  0.337566  0.00505175"
      ]
     },
     "metadata": {},
     "output_type": "display_data"
    }
   ],
   "source": [
    "traj.u # returns 2x10 matrix of u data"
   ]
  },
  {
   "cell_type": "code",
   "execution_count": 7,
   "metadata": {},
   "outputs": [
    {
     "data": {
      "text/plain": [
       "TimeSlice(1, [0.4496800725856104, 0.018389518741425803, 0.3539498249704417, 0.9891271992223536, 0.9625668031577324, 0.1], (x = 1:3, u = 4:5, Δt = 6:6, states = [1, 2, 3, 6], controls = [4, 5]), (:x, :u, :Δt), (:u,))"
      ]
     },
     "metadata": {},
     "output_type": "display_data"
    }
   ],
   "source": [
    "z1 = traj[1] # returns TimeSlice with x and u data"
   ]
  },
  {
   "cell_type": "code",
   "execution_count": 8,
   "metadata": {},
   "outputs": [
    {
     "data": {
      "text/plain": [
       "3-element Vector{Float64}:\n",
       " 0.4496800725856104\n",
       " 0.018389518741425803\n",
       " 0.3539498249704417"
      ]
     },
     "metadata": {},
     "output_type": "display_data"
    }
   ],
   "source": [
    "z1.x # returns 3x1 matrix of x data"
   ]
  },
  {
   "cell_type": "code",
   "execution_count": 9,
   "metadata": {},
   "outputs": [
    {
     "data": {
      "text/plain": [
       "2-element Vector{Float64}:\n",
       " 0.9891271992223536\n",
       " 0.9625668031577324"
      ]
     },
     "metadata": {},
     "output_type": "display_data"
    }
   ],
   "source": [
    "z1.u # returns 2x1 matrix of u data"
   ]
  },
  {
   "cell_type": "code",
   "execution_count": 10,
   "metadata": {},
   "outputs": [
    {
     "data": {
      "text/plain": [
       "2-element Vector{Float64}:\n",
       " 0.9891271992223536\n",
       " 0.9625668031577324"
      ]
     },
     "metadata": {},
     "output_type": "display_data"
    }
   ],
   "source": [
    "z1.x # returns 3x1 matrix of x data\n",
    "z1.u # returns 2x1 matrix of u data"
   ]
  },
  {
   "cell_type": "code",
   "execution_count": 11,
   "metadata": {},
   "outputs": [
    {
     "data": {
      "text/plain": [
       "6×10 reshape(view(::Vector{Float64}, :), 6, 10) with eltype Float64:\n",
       " 0.44968    0.94442   0.561824  0.43765    …  0.307236   0.81398   0.19522\n",
       " 0.0183895  0.813563  0.157581  0.0103097     0.386559   0.690002  0.518469\n",
       " 0.35395    0.791348  0.324936  0.401266      0.0356899  0.789019  0.90998\n",
       " 0.989127   0.667777  0.656754  0.121273      0.779423   0.982415  0.909783\n",
       " 0.962567   0.704711  0.904798  0.205482      0.557831   0.337566  0.00505175\n",
       " 0.1        0.1       0.1       0.1        …  0.1        0.1       0.1"
      ]
     },
     "metadata": {},
     "output_type": "display_data"
    }
   ],
   "source": [
    "traj.data # returns data as 5x10 matrix"
   ]
  },
  {
   "cell_type": "code",
   "execution_count": 12,
   "metadata": {},
   "outputs": [
    {
     "data": {
      "text/plain": [
       "(:x, :u, :Δt)"
      ]
     },
     "metadata": {},
     "output_type": "display_data"
    }
   ],
   "source": [
    "traj.names # returns names as tuple (:x, :u)"
   ]
  },
  {
   "cell_type": "code",
   "execution_count": 13,
   "metadata": {},
   "outputs": [],
   "source": [
    "plot(traj)"
   ]
  },
  {
   "cell_type": "code",
   "execution_count": null,
   "metadata": {},
   "outputs": [],
   "source": [
    "plot(\"./demo.png\", traj)"
   ]
  },
  {
   "cell_type": "code",
   "execution_count": null,
   "metadata": {},
   "outputs": [],
   "source": []
  },
  {
   "cell_type": "code",
   "execution_count": null,
   "metadata": {},
   "outputs": [],
   "source": []
  },
  {
   "cell_type": "code",
   "execution_count": null,
   "metadata": {},
   "outputs": [],
   "source": []
  }
 ],
 "metadata": {
  "kernelspec": {
   "display_name": "Julia 1.8.5",
   "language": "julia",
   "name": "julia-1.8"
  },
  "language_info": {
   "file_extension": ".jl",
   "mimetype": "application/julia",
   "name": "julia",
   "version": "1.8.5"
  },
  "orig_nbformat": 4
 },
 "nbformat": 4,
 "nbformat_minor": 2
}
